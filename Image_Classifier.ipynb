{
  "nbformat": 4,
  "nbformat_minor": 0,
  "metadata": {
    "colab": {
      "name": "Image_Classifier.ipynb",
      "provenance": [],
      "collapsed_sections": []
    },
    "kernelspec": {
      "name": "python3",
      "display_name": "Python 3"
    },
    "accelerator": "GPU"
  },
  "cells": [
    {
      "cell_type": "markdown",
      "metadata": {
        "id": "VXosh_xgXpiL",
        "colab_type": "text"
      },
      "source": [
        "**Importing Libraries**"
      ]
    },
    {
      "cell_type": "code",
      "metadata": {
        "id": "NtMzohDqt8ed",
        "colab_type": "code",
        "colab": {}
      },
      "source": [
        "import tensorflow as tf\n",
        "from tensorflow import keras\n",
        "from tensorflow.keras import layers\n",
        "import numpy as np\n",
        "\n"
      ],
      "execution_count": 1,
      "outputs": []
    },
    {
      "cell_type": "markdown",
      "metadata": {
        "id": "KTBo-XWvXvFl",
        "colab_type": "text"
      },
      "source": [
        "**Downloading MNIST Dataset**"
      ]
    },
    {
      "cell_type": "code",
      "metadata": {
        "id": "etM21mjHuIrs",
        "colab_type": "code",
        "colab": {
          "base_uri": "https://localhost:8080/",
          "height": 54
        },
        "outputId": "cc342cea-b155-45eb-de61-db2eba01ef0d"
      },
      "source": [
        "(train_images,train_labels),(test_images,test_labels)=tf.keras.datasets.mnist.load_data()\n",
        "\n"
      ],
      "execution_count": 2,
      "outputs": [
        {
          "output_type": "stream",
          "text": [
            "Downloading data from https://storage.googleapis.com/tensorflow/tf-keras-datasets/mnist.npz\n",
            "11493376/11490434 [==============================] - 0s 0us/step\n"
          ],
          "name": "stdout"
        }
      ]
    },
    {
      "cell_type": "markdown",
      "metadata": {
        "id": "fqLOVxoyX9BC",
        "colab_type": "text"
      },
      "source": [
        "**Normalizing Images, expanding dimension and Coverting them into Tensors**"
      ]
    },
    {
      "cell_type": "code",
      "metadata": {
        "id": "HnbqfE7v9I6u",
        "colab_type": "code",
        "colab": {}
      },
      "source": [
        "train_images=train_images.astype('float32')/255 #normalizing images \n",
        "train_images=tf.expand_dims(train_images,axis=3) # expanding dimension\n",
        "\n",
        "test_images=test_images.astype('float32')/255 #normalizing images \n",
        "test_images=tf.expand_dims(test_images,axis=3) # expanding dimension"
      ],
      "execution_count": 3,
      "outputs": []
    },
    {
      "cell_type": "code",
      "metadata": {
        "id": "rJHBxisI-rmI",
        "colab_type": "code",
        "colab": {
          "base_uri": "https://localhost:8080/",
          "height": 35
        },
        "outputId": "53cf200f-4c28-4f2e-e0c6-784bb743217b"
      },
      "source": [
        "train_images.shape"
      ],
      "execution_count": 4,
      "outputs": [
        {
          "output_type": "execute_result",
          "data": {
            "text/plain": [
              "TensorShape([60000, 28, 28, 1])"
            ]
          },
          "metadata": {
            "tags": []
          },
          "execution_count": 4
        }
      ]
    },
    {
      "cell_type": "code",
      "metadata": {
        "id": "f-ITRQGl9oua",
        "colab_type": "code",
        "colab": {}
      },
      "source": [
        "train_ds=tf.data.Dataset.from_tensor_slices((train_images,train_labels))\n",
        "train_ds=train_ds.shuffle(1000).batch(32)\n",
        "test_ds=tf.data.Dataset.from_tensor_slices((test_images,test_labels))\n",
        "test_ds=test_ds.shuffle(1000).batch(32)"
      ],
      "execution_count": 5,
      "outputs": []
    },
    {
      "cell_type": "code",
      "metadata": {
        "id": "rQo_kXQ0-dW1",
        "colab_type": "code",
        "colab": {
          "base_uri": "https://localhost:8080/",
          "height": 35
        },
        "outputId": "a2f7536a-089d-46f6-aa9d-fecaecef450b"
      },
      "source": [
        "train_ds"
      ],
      "execution_count": 6,
      "outputs": [
        {
          "output_type": "execute_result",
          "data": {
            "text/plain": [
              "<BatchDataset shapes: ((None, 28, 28, 1), (None,)), types: (tf.float32, tf.uint8)>"
            ]
          },
          "metadata": {
            "tags": []
          },
          "execution_count": 6
        }
      ]
    },
    {
      "cell_type": "markdown",
      "metadata": {
        "id": "QWQxZOWxYWk8",
        "colab_type": "text"
      },
      "source": [
        "**Defining Model**"
      ]
    },
    {
      "cell_type": "code",
      "metadata": {
        "id": "zzyfHaGtxdL6",
        "colab_type": "code",
        "colab": {}
      },
      "source": [
        "def get_model():\n",
        "  model=tf.keras.Sequential([\n",
        "  layers.Conv2D(64,3,activation='relu'),\n",
        "  layers.Conv2D(32,3,activation='relu'),\n",
        "  layers.MaxPooling2D(pool_size=(2,2)),\n",
        "  layers.Flatten(),\n",
        "  layers.Dropout(0.25),\n",
        "  layers.Dense(128,activation='relu'),\n",
        "  layers.Dropout(0.5),\n",
        "  layers.Dense(10,activation='softmax')\n",
        "\n",
        "\n",
        "  ])\n",
        "\n",
        "  model.compile(optimizer='adam',loss='sparse_categorical_crossentropy',metrics=['accuracy'])\n",
        "\n",
        "  return model"
      ],
      "execution_count": 7,
      "outputs": []
    },
    {
      "cell_type": "markdown",
      "metadata": {
        "id": "nua6K0JcYcqt",
        "colab_type": "text"
      },
      "source": [
        "**Running the model and Plotting loss and accuracy graph**"
      ]
    },
    {
      "cell_type": "code",
      "metadata": {
        "id": "CmjRHIQs5VPs",
        "colab_type": "code",
        "colab": {
          "base_uri": "https://localhost:8080/",
          "height": 201
        },
        "outputId": "b745e007-d1ce-4267-8dd5-0a7c9977d8ac"
      },
      "source": [
        "model=get_model()\n",
        "hist=model.fit(train_ds,epochs=5,validation_data=test_ds)"
      ],
      "execution_count": 8,
      "outputs": [
        {
          "output_type": "stream",
          "text": [
            "Epoch 1/5\n",
            "1875/1875 [==============================] - 8s 4ms/step - loss: 0.1927 - accuracy: 0.9427 - val_loss: 0.0435 - val_accuracy: 0.9861\n",
            "Epoch 2/5\n",
            "1875/1875 [==============================] - 7s 4ms/step - loss: 0.0842 - accuracy: 0.9754 - val_loss: 0.0400 - val_accuracy: 0.9858\n",
            "Epoch 3/5\n",
            "1875/1875 [==============================] - 7s 4ms/step - loss: 0.0654 - accuracy: 0.9803 - val_loss: 0.0384 - val_accuracy: 0.9868\n",
            "Epoch 4/5\n",
            "1875/1875 [==============================] - 7s 4ms/step - loss: 0.0559 - accuracy: 0.9825 - val_loss: 0.0300 - val_accuracy: 0.9906\n",
            "Epoch 5/5\n",
            "1875/1875 [==============================] - 7s 4ms/step - loss: 0.0460 - accuracy: 0.9855 - val_loss: 0.0330 - val_accuracy: 0.9896\n"
          ],
          "name": "stdout"
        }
      ]
    },
    {
      "cell_type": "code",
      "metadata": {
        "id": "i0eWLJkmBoK9",
        "colab_type": "code",
        "colab": {
          "base_uri": "https://localhost:8080/",
          "height": 326
        },
        "outputId": "6c7840dc-ff28-49f3-aebd-e0d8cf3c2493"
      },
      "source": [
        "%matplotlib inline\n",
        "import matplotlib.pyplot as plt\n",
        "training_loss=hist.history['loss']\n",
        "validation_loss=hist.history['val_loss']\n",
        "training_acc=hist.history['accuracy']\n",
        "validation_acc=hist.history['val_accuracy']\n",
        "\n",
        "epochs=range(1,6)\n",
        "fig, ax = plt.subplots(1, 2, figsize=(24, 6) )\n",
        "\n",
        "ax[0].plot(epochs,training_loss,label='Training_Loss')\n",
        "ax[0].plot(epochs,validation_loss,label='Validation_Loss')\n",
        "ax[0].set_xlabel('EPOCHS')\n",
        "ax[0].set_ylabel('LOSS')\n",
        "ax[0].legend()\n",
        "ax[1].plot(epochs,training_acc,label='Training_Accuracy')\n",
        "ax[1].plot(epochs,validation_acc,label='Validation_Accuracy')\n",
        "ax[1].set_xlabel('EPOCHS')\n",
        "ax[1].set_ylabel('ACCURACY')\n",
        "ax[1].legend()\n",
        "plt.show()\n"
      ],
      "execution_count": 71,
      "outputs": [
        {
          "output_type": "display_data",
          "data": {
            "image/png": "[encoded data removed]",
            "text/plain": [
              "<Figure size 1728x432 with 2 Axes>"
            ]
          },
          "metadata": {
            "tags": [],
            "needs_background": "light"
          }
        }
      ]
    },
    {
      "cell_type": "markdown",
      "metadata": {
        "id": "v45oFx6iYudU",
        "colab_type": "text"
      },
      "source": [
        "**Saving model and Testing model for some random images**"
      ]
    },
    {
      "cell_type": "code",
      "metadata": {
        "id": "f3gnRUanMO5N",
        "colab_type": "code",
        "colab": {}
      },
      "source": [
        "model.save('live_project_model.h5')"
      ],
      "execution_count": 38,
      "outputs": []
    },
    {
      "cell_type": "code",
      "metadata": {
        "id": "D6_ukjz8RSUf",
        "colab_type": "code",
        "colab": {
          "base_uri": "https://localhost:8080/",
          "height": 1000
        },
        "outputId": "0dc75044-7cb2-4388-fb88-27b878cf9c27"
      },
      "source": [
        "index=np.random.randint(0,10000,5)\n",
        "def plot_prediction(i):\n",
        "  tf.squeeze(test_images[i])\n",
        "  test =test_images[i]\n",
        "  plt.imshow(tf.squeeze(test_images[i]))\n",
        "  plt.title('Original_Image')\n",
        "  print('Label :',test_labels[i])\n",
        "  test =tf.expand_dims(test,axis=0)\n",
        "  print('Prediction :',model.predict(test).argmax())\n",
        "  plt.show()\n",
        "\n",
        "for i in index:\n",
        "  plot_prediction(i)\n",
        "\n",
        "  "
      ],
      "execution_count": 73,
      "outputs": [
        {
          "output_type": "stream",
          "text": [
            "Label : 9\n",
            "Prediction : 9\n"
          ],
          "name": "stdout"
        },
        {
          "output_type": "display_data",
          "data": {
            "image/png": "[encoded data removed]",
            "text/plain": [
              "<Figure size 432x288 with 1 Axes>"
            ]
          },
          "metadata": {
            "tags": [],
            "needs_background": "light"
          }
        },
        {
          "output_type": "stream",
          "text": [
            "Label : 3\n",
            "Prediction : 3\n"
          ],
          "name": "stdout"
        },
        {
          "output_type": "display_data",
          "data": {
            "image/png": "[encoded data removed]",
            "text/plain": [
              "<Figure size 432x288 with 1 Axes>"
            ]
          },
          "metadata": {
            "tags": [],
            "needs_background": "light"
          }
        },
        {
          "output_type": "stream",
          "text": [
            "Label : 5\n",
            "Prediction : 5\n"
          ],
          "name": "stdout"
        },
        {
          "output_type": "display_data",
          "data": {
            "image/png": "[encoded data removed]",
            "text/plain": [
              "<Figure size 432x288 with 1 Axes>"
            ]
          },
          "metadata": {
            "tags": [],
            "needs_background": "light"
          }
        },
        {
          "output_type": "stream",
          "text": [
            "Label : 2\n",
            "Prediction : 2\n"
          ],
          "name": "stdout"
        },
        {
          "output_type": "display_data",
          "data": {
            "image/png": "[encoded data removed]",
            "text/plain": [
              "<Figure size 432x288 with 1 Axes>"
            ]
          },
          "metadata": {
            "tags": [],
            "needs_background": "light"
          }
        },
        {
          "output_type": "stream",
          "text": [
            "Label : 4\n",
            "Prediction : 4\n"
          ],
          "name": "stdout"
        },
        {
          "output_type": "display_data",
          "data": {
            "image/png": "[encoded data removed]",
            "text/plain": [
              "<Figure size 432x288 with 1 Axes>"
            ]
          },
          "metadata": {
            "tags": [],
            "needs_background": "light"
          }
        }
      ]
    }
  ]
}